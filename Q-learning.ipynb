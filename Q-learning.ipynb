{
 "cells": [
  {
   "cell_type": "code",
   "execution_count": 1,
   "metadata": {},
   "outputs": [
    {
     "data": {
      "text/plain": [
       "array([[0., 0., 0., 0., 0., 0.],\n",
       "       [0., 0., 0., 0., 0., 0.],\n",
       "       [0., 0., 0., 0., 0., 0.],\n",
       "       [0., 0., 0., 0., 0., 0.],\n",
       "       [0., 0., 0., 0., 0., 0.],\n",
       "       [0., 0., 0., 0., 0., 0.]])"
      ]
     },
     "execution_count": 1,
     "metadata": {},
     "output_type": "execute_result"
    }
   ],
   "source": [
    "import numpy as np\n",
    "import random\n",
    "Q=np.zeros([6,6])\n",
    "Q"
   ]
  },
  {
   "cell_type": "code",
   "execution_count": 2,
   "metadata": {},
   "outputs": [
    {
     "data": {
      "text/plain": [
       "array([[-inf, -inf, -inf, -inf,   0., -inf],\n",
       "       [-inf, -inf, -inf,   0., -inf, 100.],\n",
       "       [-inf, -inf, -inf,   0., -inf, -inf],\n",
       "       [-inf,   0.,   0., -inf,   0., -inf],\n",
       "       [  0., -inf, -inf,   0., -inf, 100.],\n",
       "       [-inf,   0., -inf, -inf,   0., 100.]])"
      ]
     },
     "execution_count": 2,
     "metadata": {},
     "output_type": "execute_result"
    }
   ],
   "source": [
    "na=-np.Inf\n",
    "R=np.array([[na,na,na,na,0,na],\n",
    "            [na,na,na,0,na,100],\n",
    "            [na,na,na,0,na,na],\n",
    "            [na,0,0,na,0,na],\n",
    "            [0,na,na,0,na,100],\n",
    "            [na,0,na,na,0,100]])\n",
    "R"
   ]
  },
  {
   "cell_type": "code",
   "execution_count": 3,
   "metadata": {},
   "outputs": [],
   "source": [
    "class Qlearning:\n",
    "    def __init__(self,gamma,shape,R,episode,goal):\n",
    "        self.gamma=gamma\n",
    "        self.shape=shape\n",
    "        self.Q=np.zeros((self.shape[0],self.shape[1]))\n",
    "        self.R=R\n",
    "        self.episode=episode\n",
    "        self.goal=goal\n",
    "    def rule(self,state,action,gamma):\n",
    "        all_actions=list(np.where(self.R[action,:]!=-np.Inf)[0])#get all possible actions from next state\n",
    "        state2AllAction=[]\n",
    "        for i in all_actions:\n",
    "            state2AllAction.append(self.Q[action,i])\n",
    "        self.Q[state,action]=self.R[state,action]+self.gamma*(max(state2AllAction)) \n",
    "        #Q[state,action]=R[state,action]+gmmma*max(values of all possible actions)\n",
    "        return action\n",
    "    def training(self):\n",
    "        #set a limit\n",
    "        for time in range(self.episode):\n",
    "            initial=random.randint(0,self.shape[0]-1)#randome initial\n",
    "            option=True\n",
    "            while option:\n",
    "                if initial==self.goal:\n",
    "                    option=False#if we finding the goal ,finish it.\n",
    "                action=random.choice(list(np.where(self.R[initial,:]!=-np.Inf)[0]))#random choose one amnong from all possible actions\n",
    "                next_state=self.rule(initial,action,self.gamma)\n",
    "                initial=next_state"
   ]
  },
  {
   "cell_type": "code",
   "execution_count": 4,
   "metadata": {},
   "outputs": [],
   "source": [
    "tmp=Qlearning(0.8,[6,6],R,700,5)\n",
    "tmp.training()"
   ]
  },
  {
   "cell_type": "code",
   "execution_count": 5,
   "metadata": {},
   "outputs": [
    {
     "data": {
      "text/plain": [
       "array([[  0.,   0.,   0.,   0., 400.,   0.],\n",
       "       [  0.,   0.,   0., 320.,   0., 500.],\n",
       "       [  0.,   0.,   0., 320.,   0.,   0.],\n",
       "       [  0., 400., 256.,   0., 400.,   0.],\n",
       "       [320.,   0.,   0., 320.,   0., 500.],\n",
       "       [  0., 400.,   0.,   0., 400., 500.]])"
      ]
     },
     "execution_count": 5,
     "metadata": {},
     "output_type": "execute_result"
    }
   ],
   "source": [
    "tmp.Q\n",
    "#follow by the website : https://people.revoledu.com/kardi/tutorial/ReinforcementLearning/Q-Learning-Algorithm.htm"
   ]
  },
  {
   "cell_type": "code",
   "execution_count": null,
   "metadata": {},
   "outputs": [],
   "source": []
  }
 ],
 "metadata": {
  "kernelspec": {
   "display_name": "Python 3",
   "language": "python",
   "name": "python3"
  },
  "language_info": {
   "codemirror_mode": {
    "name": "ipython",
    "version": 3
   },
   "file_extension": ".py",
   "mimetype": "text/x-python",
   "name": "python",
   "nbconvert_exporter": "python",
   "pygments_lexer": "ipython3",
   "version": "3.7.6"
  }
 },
 "nbformat": 4,
 "nbformat_minor": 4
}
